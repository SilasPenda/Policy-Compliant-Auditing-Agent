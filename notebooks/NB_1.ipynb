{
 "cells": [
  {
   "cell_type": "markdown",
   "id": "de9c12e3",
   "metadata": {},
   "source": [
    "### Create and Test Collections"
   ]
  },
  {
   "cell_type": "code",
   "execution_count": 20,
   "id": "c7ef5574",
   "metadata": {},
   "outputs": [
    {
     "name": "stdout",
     "output_type": "stream",
     "text": [
      "Using device: mps\n"
     ]
    },
    {
     "data": {
      "application/vnd.jupyter.widget-view+json": {
       "model_id": "00f5c5902d344989a827a6d0f5f5d823",
       "version_major": 2,
       "version_minor": 0
      },
      "text/plain": [
       "Batches:   0%|          | 0/1165 [00:00<?, ?it/s]"
      ]
     },
     "metadata": {},
     "output_type": "display_data"
    },
    {
     "name": "stdout",
     "output_type": "stream",
     "text": [
      "Added documents to Chroma via chromadb client\n"
     ]
    }
   ],
   "source": [
    "import os\n",
    "from pypdf import PdfReader\n",
    "from langchain.text_splitter import RecursiveCharacterTextSplitter\n",
    "from langchain.schema import Document\n",
    "from sentence_transformers import SentenceTransformer\n",
    "import chromadb\n",
    "from src.utils import get_device\n",
    "\n",
    "device = get_device()\n",
    "print(f\"Using device: {device}\")\n",
    "\n",
    "model = SentenceTransformer(\"all-MiniLM-L6-v2\", device=device)\n",
    "\n",
    "splitter = RecursiveCharacterTextSplitter(\n",
    "    chunk_size=1000,\n",
    "    chunk_overlap=200,\n",
    "    separators=[\"\\n\\n\", \"\\n\", \".\", \" \", \"\"]\n",
    ")\n",
    "\n",
    "texts = []\n",
    "metadatas = []\n",
    "ids = []\n",
    "\n",
    "base_dir = '/Users/silaspenda/Desktop/workspace/my_projects/Marketing_AI_Agent/CUAD_v1'\n",
    "\n",
    "\n",
    "for root, dirs, files in os.walk(base_dir):\n",
    "    for file in files:\n",
    "        parent_folder = os.path.basename(root)\n",
    "\n",
    "        if file.endswith(('.pdf', '.PDF')):\n",
    "            pdf_path = os.path.join(root, file)\n",
    "            reader = PdfReader(pdf_path)\n",
    "            for i, page in enumerate(reader.pages):\n",
    "                text = page.extract_text()\n",
    "                if text:\n",
    "                    chunks = splitter.split_text(text)\n",
    "                    for idx, chunk in enumerate(chunks):\n",
    "                        texts.append(chunk)\n",
    "                        metadatas.append({\"page\": i, \"document_type\": parent_folder, \"source\": file})\n",
    "                        ids.append(f\"{os.path.basename(pdf_path)}_page{i}_chunk{idx}\")\n",
    "\n",
    "# Embed the texts in batches\n",
    "embeddings = model.encode(texts, show_progress_bar=True, batch_size=32)\n",
    "\n",
    "persist_dir = \"./audit_chromadb_dir\"\n",
    "os.makedirs(persist_dir, exist_ok=True) \n",
    "\n",
    "client = chromadb.PersistentClient(path=persist_dir)\n",
    "\n",
    "collection_name = \"enterprise_docs\"\n",
    "\n",
    "# Remove existing collection if it exists\n",
    "existing_collections = [col.name for col in client.list_collections()]\n",
    "if collection_name in existing_collections:\n",
    "    client.delete_collection(name=collection_name)\n",
    "\n",
    "collection = client.create_collection(name=collection_name)\n",
    "\n",
    "# Add embeddings and metadata to collection in smaller batches\n",
    "BATCH_SIZE = 5000\n",
    "\n",
    "for i in range(0, len(texts), BATCH_SIZE):\n",
    "    batch_texts = texts[i : i + BATCH_SIZE]\n",
    "    batch_embeddings = embeddings[i : i + BATCH_SIZE]\n",
    "    batch_metadatas = metadatas[i : i + BATCH_SIZE]\n",
    "    batch_ids = ids[i : i + BATCH_SIZE]\n",
    "\n",
    "    collection.add(\n",
    "        documents=batch_texts,\n",
    "        embeddings=batch_embeddings.tolist(),\n",
    "        metadatas=batch_metadatas,\n",
    "        ids=batch_ids\n",
    "    )\n",
    "\n",
    "print(\"Added documents to Chroma via chromadb client\")\n"
   ]
  },
  {
   "cell_type": "code",
   "execution_count": 14,
   "id": "6264a4bf",
   "metadata": {},
   "outputs": [
    {
     "name": "stdout",
     "output_type": "stream",
     "text": [
      "Result 1:\n",
      "Document: 12.5 Accrued Rights and Obligations. Expiration or termination of this Agreement shall not diminish either Party’s rights, or relieve either Party of\n",
      "any of its obligations, in each case that have been accrued prior to the effective date of such expiration or termination.\n",
      "12.6 Termination Not Sole Remedy. Except as set forth in Section 5.7, termination is not the sole remedy under this Agreement and, whether or not\n",
      "termination is effected and notwithstanding anything contained in this Agreement to the contrary, all other remedies shall remain available except as\n",
      "agreed to otherwise herein.\n",
      "Article XIII.\n",
      "REPRESENTATIONS, WARRANTIES AND COVENANTS; CLOSING CONDITIONS\n",
      "13.1 Representations and Warranties of Each Party. Each Party hereby represents and warrants, as of the Execution, and covenants (as\n",
      "applicable) to the other Party as follows:\n",
      "(a) It is a company or corporation duly organized, validly existing, and in good standing under the laws of the jurisdiction in which it is\n",
      "Metadata: {'page': 65, 'document_type': 'Development', 'source': 'RevolutionMedicinesInc_20200117_S-1_EX-10.1_11948417_EX-10.1_Development Agreement.pdf'}\n",
      "Distance: 0.6256062388420105\n",
      "\n",
      "Result 2:\n",
      "Document: Exhibit A attached hereto and made a part hereof, in connection with the design of the Application (collectively, the “Services”).\n",
      "2. COMPENSATION.\n",
      "The total compensation for the design of the app shall be as set forth in Exhibit A hereto. These payments shall be made in installments according\n",
      "to the schedule set forth in Exhibit A hereto.\n",
      "3. TERM.\n",
      "This Agreement shall become effective as of the Effective Date and, unless otherwise terminated in accordance with the provisions of Section 4 of\n",
      "this Agreement, will continue until the expiration of the Warranty Period as defined in subsection 9(a) of this Agreement.\n",
      "4. TERMINATION.\n",
      "(a) Types of Termination. This Agreement may be terminated:\n",
      "1. By either Party on provision of seven (7) days written notice to the other Party in case of a Force Majeure Event.\n",
      "2. Client has the unilateral right to cancel this agreement at any time within a 7-day notice period. Further, Developer can only cancel\n",
      "Metadata: {'page': 0, 'document_type': 'Development', 'source': 'ClickstreamCorp_20200330_1-A_EX1A-6 MAT CTRCT_12089935_EX1A-6 MAT CTRCT_Development Agreement.pdf'}\n",
      "Distance: 0.6515495777130127\n",
      "\n",
      "Result 3:\n",
      "Document: giving to the other party, not less than four (4) months written notice.\n",
      "15.3 A Party may immediately terminate this Agreement should the other party:\n",
      "(i) become insolvent;\n",
      "(ii) enter into or filing a petition, arraignment or proceeding seeking an order for relief under the bankruptcy/insolvency laws of its\n",
      "respective jurisdiction;\n",
      "(iii) enter into a receivership of any of its assets; or\n",
      "(iv) enter into a dissolution of liquidation of its assets or an assignment for the benefit of its creditors.\n",
      "16. Effect of Termination\n",
      "16.1 in the case of termination, unless otherwise stipulated and subject to Customer fulfillments of all its payments obligations under this\n",
      "Agreement, Contractor will deliver all Products, materials to Customer and Customer will pay all amounts due under this Agreement, for all\n",
      "Products, materials mentioned on a Purchase Order or Change Order accepted by Contractor before expiration or termination date.\n",
      "Metadata: {'document_type': 'Manufacturing', 'page': 8, 'source': 'InmodeLtd_20190729_F-1A_EX-10.9_11743243_EX-10.9_Manufacturing Agreement.pdf'}\n",
      "Distance: 0.6557157039642334\n",
      "\n",
      "Result 4:\n",
      "Document: a result terminate the Agreement by notice in writing\n",
      "                          to first party.\n",
      "                          For the purpose of this clause, a person shall have\n",
      "                          \"Control\" of a company if he holds, directly or\n",
      "                          indirectly, shares which together with shares held by\n",
      "                          any persons acting in concert with him carry 50% or\n",
      "                          more of the voting rights of that company and \"Change\n",
      "                          in Control\" shall be interpreted accordingly. Words\n",
      "                          and phrases defined in the City Code on Take-overs and\n",
      "                          Mergers shall have the same meaning here.\n",
      "      32.3. Termination, howsoever or whenever occasioned shall be subject to\n",
      "            any rights and remedies either party may have under this Agreement\n",
      "            or in Law.\n",
      "      32.4. the following Clauses shall survive termination for whatever cause\n",
      "Metadata: {'page': 11, 'source': 'HEALTHGATEDATACORP_11_24_1999-EX-10.1-HOSTING AND MANAGEMENT AGREEMENT (1).pdf', 'document_type': 'Hosting'}\n",
      "Distance: 0.6648362874984741\n",
      "\n",
      "Result 5:\n",
      "Document: paid shall survive termination or expiration of this Agreement.\n",
      "14.16 The parties agree that the provisions of this Agreement are personal to them and are not intended to confer any rights of enforcement\n",
      "on any third party. The Contracts (Rights of Third Parties) Act 1999 shall not apply to this Agreement or to any of its provisions.\n",
      " \n",
      "28\n",
      "Source: TOM ONLINE INC, 20-F, 5/1/2006\n",
      "Metadata: {'document_type': 'Co_Branding', 'page': 27, 'source': 'TomOnlineInc_20060501_20-F_EX-4.46_749700_EX-4.46_Co-Branding Agreement.pdf'}\n",
      "Distance: 0.6696866154670715\n",
      "\n"
     ]
    }
   ],
   "source": [
    "# import chromadb\n",
    "# from sentence_transformers import SentenceTransformer\n",
    "\n",
    "client = chromadb.Client()\n",
    "collection = client.get_collection(name=\"enterprise_docs\")\n",
    "\n",
    "model = SentenceTransformer(\"all-MiniLM-L6-v2\", device=\"mps\")\n",
    "\n",
    "query_text = \"contract termination clauses\"\n",
    "query_embedding = model.encode([query_text])[0].tolist()\n",
    "\n",
    "results = collection.query(\n",
    "    query_embeddings=[query_embedding],\n",
    "    n_results=5,\n",
    "    include=[\"documents\", \"metadatas\", \"distances\"]\n",
    ")\n",
    "\n",
    "for i, doc in enumerate(results['documents'][0]):\n",
    "    print(f\"Result {i+1}:\")\n",
    "    print(\"Document:\", doc)\n",
    "    print(\"Metadata:\", results['metadatas'][0][i])\n",
    "    print(\"Distance:\", results['distances'][0][i])\n",
    "    print()\n"
   ]
  },
  {
   "cell_type": "code",
   "execution_count": null,
   "id": "8b496fbf",
   "metadata": {},
   "outputs": [],
   "source": []
  },
  {
   "cell_type": "code",
   "execution_count": 21,
   "id": "02d000d2",
   "metadata": {},
   "outputs": [
    {
     "name": "stdout",
     "output_type": "stream",
     "text": [
      "Using device: mps\n"
     ]
    },
    {
     "data": {
      "application/vnd.jupyter.widget-view+json": {
       "model_id": "776de36fdfd740348473fb0a9094010f",
       "version_major": 2,
       "version_minor": 0
      },
      "text/plain": [
       "Batches:   0%|          | 0/1 [00:00<?, ?it/s]"
      ]
     },
     "metadata": {},
     "output_type": "display_data"
    },
    {
     "name": "stdout",
     "output_type": "stream",
     "text": [
      "Added 25 rules to Chroma collection 'policies'.\n"
     ]
    }
   ],
   "source": [
    "import yaml\n",
    "from sentence_transformers import SentenceTransformer\n",
    "import chromadb\n",
    "from src.utils import get_device\n",
    "\n",
    "yaml_path = \"./src/policies.yaml\"  # adjust to your actual YAML file path\n",
    "\n",
    "# Load YAML\n",
    "with open(yaml_path, \"r\") as f:\n",
    "    data = yaml.safe_load(f)\n",
    "\n",
    "texts = []\n",
    "metadatas = []\n",
    "ids = []\n",
    "\n",
    "# Iterate through all top-level keys (policy categories)\n",
    "for policy_category, rules in data.items():\n",
    "    for i, rule in enumerate(rules):\n",
    "        content = rule.get(\"content\")\n",
    "        metadata = rule.get(\"metadata\", {}).copy()\n",
    "        # Add policy category as extra metadata field (optional)\n",
    "        # metadata[\"policy_category\"] = policy_category\n",
    "        \n",
    "        texts.append(content)\n",
    "        metadatas.append(metadata)\n",
    "        ids.append(f\"{policy_category}_{i}\")\n",
    "\n",
    "device = get_device()\n",
    "print(f\"Using device: {device}\")\n",
    "\n",
    "model = SentenceTransformer(\"all-MiniLM-L6-v2\", device=device)\n",
    "\n",
    "embeddings = model.encode(texts, show_progress_bar=True, batch_size=32)\n",
    "\n",
    "persist_dir = \"./audit_chromadb_dir\"\n",
    "os.makedirs(persist_dir, exist_ok=True) \n",
    "\n",
    "client = chromadb.PersistentClient(path=persist_dir)\n",
    "\n",
    "collection_name = \"policies\"  # change or parameterize as you want\n",
    "\n",
    "# Remove existing collection if it exists\n",
    "existing_collections = [col.name for col in client.list_collections()]\n",
    "if collection_name in existing_collections:\n",
    "    client.delete_collection(name=collection_name)\n",
    "\n",
    "collection = client.create_collection(name=collection_name)\n",
    "\n",
    "collection.add(\n",
    "    documents=texts,\n",
    "    embeddings=embeddings.tolist(),\n",
    "    metadatas=metadatas,\n",
    "    ids=ids\n",
    ")\n",
    "\n",
    "print(f\"Added {len(texts)} rules to Chroma collection '{collection_name}'.\")\n"
   ]
  },
  {
   "cell_type": "code",
   "execution_count": 12,
   "id": "201bcd4d",
   "metadata": {},
   "outputs": [
    {
     "name": "stdout",
     "output_type": "stream",
     "text": [
      "Result 1 (distance: 0.5217):\n",
      "Content: GDPR requires that data breaches must be reported to the relevant supervisory authority within 72 hours, unless unlikely to pose a risk to rights and freedoms.\n",
      "Metadata: {'law': 'GDPR', 'source': 'policy_manual', 'category': 'data_breach', 'severity': 'critical'}\n",
      "----------------------------------------\n",
      "Result 2 (distance: 0.8126):\n",
      "Content: Under GDPR, data subjects have the right to access their personal data and obtain information about how it is being used.\n",
      "Metadata: {'category': 'data_access', 'source': 'policy_manual', 'severity': 'medium', 'law': 'GDPR'}\n",
      "----------------------------------------\n",
      "Result 3 (distance: 0.8567):\n",
      "Content: Data subjects have the right under GDPR to have their personal data rectified if it is inaccurate or incomplete.\n",
      "Metadata: {'source': 'policy_manual', 'severity': 'medium', 'category': 'data_accuracy', 'law': 'GDPR'}\n",
      "----------------------------------------\n",
      "Result 4 (distance: 0.9277):\n",
      "Content: GDPR mandates data controllers to implement appropriate technical and organizational measures to ensure a level of security appropriate to the risk.\n",
      "Metadata: {'law': 'GDPR', 'source': 'policy_manual', 'severity': 'high', 'category': 'data_security'}\n",
      "----------------------------------------\n",
      "Result 5 (distance: 0.9382):\n",
      "Content: GDPR stipulates that personal data should only be collected for specified, explicit, and legitimate purposes, and not further processed in a way incompatible with those purposes.\n",
      "Metadata: {'source': 'policy_manual', 'severity': 'high', 'law': 'GDPR', 'category': 'data_minimization'}\n",
      "----------------------------------------\n"
     ]
    }
   ],
   "source": [
    "query_text = \"What are the GDPR rules about data breaches?\"\n",
    "\n",
    "results = collection.query(\n",
    "    query_texts=[query_text],\n",
    "    n_results=5,  # number of closest matches to return\n",
    "    include=[\"documents\", \"metadatas\", \"distances\"]\n",
    ")\n",
    "\n",
    "for i, (doc, meta, dist) in enumerate(zip(results[\"documents\"][0], results[\"metadatas\"][0], results[\"distances\"][0])):\n",
    "    print(f\"Result {i+1} (distance: {dist:.4f}):\")\n",
    "    print(f\"Content: {doc}\")\n",
    "    print(f\"Metadata: {meta}\")\n",
    "    print(\"-\" * 40)\n"
   ]
  },
  {
   "cell_type": "code",
   "execution_count": null,
   "id": "728366bd",
   "metadata": {},
   "outputs": [],
   "source": []
  }
 ],
 "metadata": {
  "kernelspec": {
   "display_name": ".venv",
   "language": "python",
   "name": "python3"
  },
  "language_info": {
   "codemirror_mode": {
    "name": "ipython",
    "version": 3
   },
   "file_extension": ".py",
   "mimetype": "text/x-python",
   "name": "python",
   "nbconvert_exporter": "python",
   "pygments_lexer": "ipython3",
   "version": "3.11.4"
  }
 },
 "nbformat": 4,
 "nbformat_minor": 5
}
